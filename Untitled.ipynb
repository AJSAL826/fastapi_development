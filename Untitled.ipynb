{
 "cells": [
  {
   "cell_type": "code",
   "execution_count": 4,
   "id": "2c453889-cf77-44ef-a5f6-32588434aba1",
   "metadata": {},
   "outputs": [],
   "source": [
    "import asyncio"
   ]
  },
  {
   "cell_type": "code",
   "execution_count": 12,
   "id": "bf278c4a-8bc7-44ec-b289-bef324cf993e",
   "metadata": {},
   "outputs": [
    {
     "ename": "SyntaxError",
     "evalue": "'await' outside async function (2950069779.py, line 2)",
     "output_type": "error",
     "traceback": [
      "\u001b[1;36m  Cell \u001b[1;32mIn[12], line 2\u001b[1;36m\u001b[0m\n\u001b[1;33m    await asyncio.sleep(1)\u001b[0m\n\u001b[1;37m    ^\u001b[0m\n\u001b[1;31mSyntaxError\u001b[0m\u001b[1;31m:\u001b[0m 'await' outside async function\n"
     ]
    }
   ],
   "source": [
    "async def func():\n",
    "    await asyncio.sleep(1)"
   ]
  },
  {
   "cell_type": "code",
   "execution_count": 6,
   "id": "c27a41a4-ee3a-4d5c-8102-7bb7b4839314",
   "metadata": {},
   "outputs": [],
   "source": [
    "async def main():\n",
    "    for i in range(100):\n",
    "        await func()"
   ]
  },
  {
   "cell_type": "code",
   "execution_count": null,
   "id": "3cd7a5a3-85f6-4068-8199-780a6345955d",
   "metadata": {},
   "outputs": [],
   "source": []
  },
  {
   "cell_type": "code",
   "execution_count": 19,
   "id": "65b40187-3d94-450e-b3e2-a336f59f1c8c",
   "metadata": {},
   "outputs": [
    {
     "name": "stdout",
     "output_type": "stream",
     "text": [
      "--- 100.69515085220337 seconds ---\n"
     ]
    }
   ],
   "source": [
    "import time\n",
    "start_time = time.time()\n",
    "main()\n",
    "print(\"--- %s seconds ---\" % (time.time() - start_time))"
   ]
  },
  {
   "cell_type": "code",
   "execution_count": 18,
   "id": "4bfe3267-cad4-4eb1-941a-e5eac72695b5",
   "metadata": {},
   "outputs": [],
   "source": [
    "def main():\n",
    "    for i in range(100):\n",
    "        func()"
   ]
  },
  {
   "cell_type": "code",
   "execution_count": 17,
   "id": "9c3e1f5b-69ec-4a52-92c0-ec0d0a6ce67d",
   "metadata": {},
   "outputs": [],
   "source": [
    "def func():\n",
    "    time.sleep(1)"
   ]
  },
  {
   "cell_type": "code",
   "execution_count": 16,
   "id": "b981d943-6950-40a2-9d22-ee727c158bd8",
   "metadata": {},
   "outputs": [],
   "source": [
    "import time"
   ]
  },
  {
   "cell_type": "code",
   "execution_count": null,
   "id": "b4ad3ad3-fee6-40cf-8629-68f80d5b489d",
   "metadata": {},
   "outputs": [],
   "source": []
  }
 ],
 "metadata": {
  "kernelspec": {
   "display_name": "Python 3 (ipykernel)",
   "language": "python",
   "name": "python3"
  },
  "language_info": {
   "codemirror_mode": {
    "name": "ipython",
    "version": 3
   },
   "file_extension": ".py",
   "mimetype": "text/x-python",
   "name": "python",
   "nbconvert_exporter": "python",
   "pygments_lexer": "ipython3",
   "version": "3.8.10"
  }
 },
 "nbformat": 4,
 "nbformat_minor": 5
}
